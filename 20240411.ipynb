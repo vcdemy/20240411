{
 "cells": [
  {
   "cell_type": "markdown",
   "id": "bd717299-8cea-4230-ad33-d8c3dee445cc",
   "metadata": {},
   "source": [
    "# 20240411筆記"
   ]
  },
  {
   "cell_type": "markdown",
   "id": "05efafc8-96da-497d-8a91-e4614f61461b",
   "metadata": {},
   "source": [
    "常用Python影像處理:\n",
    "* pillow\n",
    "* scikit-image\n",
    "* OpenCV"
   ]
  },
  {
   "cell_type": "markdown",
   "id": "4b3e77d9-d012-40da-b738-e5b23904bb5f",
   "metadata": {},
   "source": [
    "## 讀圖及秀圖"
   ]
  },
  {
   "cell_type": "code",
   "execution_count": null,
   "id": "9b3ebd2b-e6fe-4663-bed1-8374b20d7abd",
   "metadata": {},
   "outputs": [],
   "source": [
    "import skimage as ski\n",
    "from PIL import Image"
   ]
  },
  {
   "cell_type": "code",
   "execution_count": null,
   "id": "b2d99e9e-71bc-4f4b-8a11-361544d355af",
   "metadata": {},
   "outputs": [],
   "source": [
    "img = Image.open('lena.png')"
   ]
  },
  {
   "cell_type": "code",
   "execution_count": null,
   "id": "20da4a97-d77e-4bd9-a35e-ddb1e582e3fd",
   "metadata": {},
   "outputs": [],
   "source": [
    "img"
   ]
  },
  {
   "cell_type": "code",
   "execution_count": null,
   "id": "9e0ca079-67bc-4a6d-be84-6f6096fa666b",
   "metadata": {},
   "outputs": [],
   "source": [
    "img.mode"
   ]
  },
  {
   "cell_type": "code",
   "execution_count": null,
   "id": "6f0dd26e-a6e4-4826-be33-6e1e7b62f810",
   "metadata": {},
   "outputs": [],
   "source": [
    "img.size"
   ]
  },
  {
   "cell_type": "code",
   "execution_count": null,
   "id": "68dfca46-f33a-4392-aec0-f3d2b8144bdd",
   "metadata": {},
   "outputs": [],
   "source": [
    "lena = ski.io.imread('lena.png')"
   ]
  },
  {
   "cell_type": "code",
   "execution_count": null,
   "id": "81aeaf11-8939-42d8-a243-cab8373e4b68",
   "metadata": {},
   "outputs": [],
   "source": [
    "ski.io.imshow(lena)"
   ]
  },
  {
   "cell_type": "markdown",
   "id": "5231bfa7-28b6-40bb-a914-0b199de18271",
   "metadata": {},
   "source": [
    "## 彩色轉單色及圖片縮放"
   ]
  },
  {
   "cell_type": "code",
   "execution_count": null,
   "id": "7534ca71-ef36-437c-937e-7fbc7d18e34d",
   "metadata": {},
   "outputs": [],
   "source": [
    "img.convert('L').resize((32, 32))"
   ]
  },
  {
   "cell_type": "code",
   "execution_count": null,
   "id": "206a9c09-087c-4f4f-9dfb-d5bdcd326274",
   "metadata": {},
   "outputs": [],
   "source": [
    "img01 = img.convert('L').resize((32, 32))"
   ]
  },
  {
   "cell_type": "code",
   "execution_count": null,
   "id": "8a8517de-9040-46d5-9015-001f8f86a15e",
   "metadata": {},
   "outputs": [],
   "source": [
    "import numpy as np\n",
    "import plotly.express as px"
   ]
  },
  {
   "cell_type": "code",
   "execution_count": null,
   "id": "fa14dfc2-783d-474a-bfa0-c2f21aeeb940",
   "metadata": {},
   "outputs": [],
   "source": [
    "# 將 PIL 的圖片格式轉成 ndarray\n",
    "aimg = np.array(img01)"
   ]
  },
  {
   "cell_type": "code",
   "execution_count": null,
   "id": "66f39e5f-bfd2-4b68-a249-82fa37402145",
   "metadata": {},
   "outputs": [],
   "source": [
    "aimg"
   ]
  },
  {
   "cell_type": "code",
   "execution_count": null,
   "id": "02e5cfaa-2f29-4b0e-a579-9b17cbc773a1",
   "metadata": {},
   "outputs": [],
   "source": [
    "px.imshow(aimg, color_continuous_scale='gray')"
   ]
  },
  {
   "cell_type": "code",
   "execution_count": null,
   "id": "7bef86b7-0284-4831-83e1-a24b55b90301",
   "metadata": {},
   "outputs": [],
   "source": [
    "px.imshow(aimg, color_continuous_scale='gray', text_auto=True)"
   ]
  },
  {
   "cell_type": "code",
   "execution_count": null,
   "id": "509f4e88-3748-491f-a014-3f00558183b2",
   "metadata": {},
   "outputs": [],
   "source": [
    "aimg"
   ]
  },
  {
   "cell_type": "code",
   "execution_count": null,
   "id": "aa66b434-49b9-4caa-84c8-4fb8dfa4e344",
   "metadata": {},
   "outputs": [],
   "source": [
    "x = list('abcdefghijklmn')"
   ]
  },
  {
   "cell_type": "code",
   "execution_count": null,
   "id": "bd11f40a-792c-4b86-92e5-93b5637fda5f",
   "metadata": {},
   "outputs": [],
   "source": [
    "x"
   ]
  },
  {
   "cell_type": "code",
   "execution_count": null,
   "id": "9f7dee0a-875d-483b-b556-68e72dfd6c22",
   "metadata": {},
   "outputs": [],
   "source": [
    "x[::2]"
   ]
  },
  {
   "cell_type": "code",
   "execution_count": null,
   "id": "8e892512-97d4-40ff-9e59-6a20e0882ba8",
   "metadata": {},
   "outputs": [],
   "source": [
    "px.imshow(aimg[::2,::2], color_continuous_scale='gray', text_auto=True)"
   ]
  },
  {
   "cell_type": "code",
   "execution_count": null,
   "id": "a56406ee-91b6-4ded-ac1b-7d3ad6246db0",
   "metadata": {},
   "outputs": [],
   "source": [
    "px.imshow(aimg, \n",
    "          color_continuous_scale='gray',\n",
    "          text_auto=True,\n",
    "          width=800, \n",
    "          height=800)"
   ]
  },
  {
   "cell_type": "markdown",
   "id": "240c51af-d6ae-4229-b5bd-859224820db8",
   "metadata": {},
   "source": [
    "## Histogram"
   ]
  },
  {
   "cell_type": "code",
   "execution_count": null,
   "id": "db1ce305-1b9f-47ee-9a12-56eccf735a84",
   "metadata": {},
   "outputs": [],
   "source": [
    "aimg.ravel?"
   ]
  },
  {
   "cell_type": "code",
   "execution_count": null,
   "id": "55894234-e8ea-4b3d-8402-15e24b3badab",
   "metadata": {},
   "outputs": [],
   "source": [
    "np.arange(25).reshape(5, 5)"
   ]
  },
  {
   "cell_type": "code",
   "execution_count": null,
   "id": "6fb33710-9c20-41e7-b9d2-b5e81375185b",
   "metadata": {},
   "outputs": [],
   "source": [
    "data = np.arange(25).reshape(5, 5)\n",
    "data"
   ]
  },
  {
   "cell_type": "code",
   "execution_count": null,
   "id": "d82b7d81-8029-451e-a865-30b7c279a833",
   "metadata": {},
   "outputs": [],
   "source": [
    "data.ravel()"
   ]
  },
  {
   "cell_type": "code",
   "execution_count": null,
   "id": "1685aa72-d8e3-4036-bb40-3e08220a56f4",
   "metadata": {},
   "outputs": [],
   "source": [
    "px.histogram(aimg.ravel())"
   ]
  },
  {
   "cell_type": "code",
   "execution_count": null,
   "id": "4ea5ce0a-394e-4d04-ab58-93b5d36dfd7b",
   "metadata": {},
   "outputs": [],
   "source": [
    "px.histogram(aimg.ravel(), range_x=[0, 255], nbins=256)"
   ]
  },
  {
   "cell_type": "code",
   "execution_count": null,
   "id": "e7b0c419-5fad-444b-af74-2bb525b2dfba",
   "metadata": {},
   "outputs": [],
   "source": [
    "moon = ski.data.moon()"
   ]
  },
  {
   "cell_type": "code",
   "execution_count": null,
   "id": "fbc31c94-f306-4a17-b65f-2c4283765596",
   "metadata": {},
   "outputs": [],
   "source": [
    "px.imshow(moon, color_continuous_scale=\"gray\")"
   ]
  },
  {
   "cell_type": "code",
   "execution_count": null,
   "id": "9b79ac69-6cf0-418b-a6f6-ca2d7aae2346",
   "metadata": {},
   "outputs": [],
   "source": [
    "px.histogram(moon.ravel(), range_x=[0, 255], nbins=256)"
   ]
  },
  {
   "cell_type": "code",
   "execution_count": null,
   "id": "ebcc9292-7428-439b-8c06-ecbc59ee048e",
   "metadata": {},
   "outputs": [],
   "source": [
    "np.clip(moon, 50, 149)"
   ]
  },
  {
   "cell_type": "code",
   "execution_count": null,
   "id": "97d4e16a-9758-49a5-9618-1b99ccbce911",
   "metadata": {},
   "outputs": [],
   "source": [
    "px.histogram(np.clip(moon, 50, 149).ravel(), range_x=[0, 255], nbins=256)"
   ]
  },
  {
   "cell_type": "code",
   "execution_count": null,
   "id": "c1cdef7d-e8c3-4116-ac4f-79ffbc7e997a",
   "metadata": {},
   "outputs": [],
   "source": [
    "newmoon = np.clip(moon, 50, 149)"
   ]
  },
  {
   "cell_type": "code",
   "execution_count": null,
   "id": "5b6d8304-099f-469d-a988-227b459754b3",
   "metadata": {},
   "outputs": [],
   "source": [
    "newmoon = ((newmoon - 50) / 100 * 255)"
   ]
  },
  {
   "cell_type": "code",
   "execution_count": null,
   "id": "722e6fd0-c7fe-40f0-8888-e873d467d0ab",
   "metadata": {},
   "outputs": [],
   "source": [
    "px.imshow(moon, color_continuous_scale=\"gray\")"
   ]
  },
  {
   "cell_type": "code",
   "execution_count": null,
   "id": "e4590287-d2a2-464c-b4d3-e7afa6cd66be",
   "metadata": {},
   "outputs": [],
   "source": [
    "px.imshow(newmoon, color_continuous_scale=\"gray\")"
   ]
  },
  {
   "cell_type": "code",
   "execution_count": null,
   "id": "aada65b6-f021-45c7-a74c-c3500a5533fe",
   "metadata": {},
   "outputs": [],
   "source": [
    "import matplotlib.pyplot as plt"
   ]
  },
  {
   "cell_type": "code",
   "execution_count": null,
   "id": "f20e4264-930c-4b10-b7ff-5783d9c3ca05",
   "metadata": {},
   "outputs": [],
   "source": [
    "plt.subplot(1, 2, 1)\n",
    "plt.imshow(moon, cmap='gray')\n",
    "plt.subplot(1, 2, 2)\n",
    "plt.imshow(newmoon, cmap='gray')"
   ]
  },
  {
   "cell_type": "code",
   "execution_count": null,
   "id": "335c2a40-a0c1-43ae-96e9-c73a90fa9ea3",
   "metadata": {},
   "outputs": [],
   "source": [
    "from skimage import exposure"
   ]
  },
  {
   "cell_type": "code",
   "execution_count": null,
   "id": "99deac73-12ff-40dd-8e9e-13d5f1199a8f",
   "metadata": {},
   "outputs": [],
   "source": [
    "newmoon01 = exposure.rescale_intensity(moon, in_range=(50, 149))"
   ]
  },
  {
   "cell_type": "code",
   "execution_count": null,
   "id": "9fcc6205-a541-48e1-8fd9-84abf2a1bc3b",
   "metadata": {},
   "outputs": [],
   "source": [
    "plt.subplot(1, 3, 1)\n",
    "plt.imshow(moon, cmap='gray')\n",
    "plt.subplot(1, 3, 2)\n",
    "plt.imshow(newmoon, cmap='gray')\n",
    "plt.subplot(1, 3, 3)\n",
    "plt.imshow(newmoon01, cmap='gray')"
   ]
  },
  {
   "cell_type": "code",
   "execution_count": null,
   "id": "43b6931a-5856-4488-b5e8-4246a9146c45",
   "metadata": {},
   "outputs": [],
   "source": [
    "eq_moon = exposure.equalize_hist(moon)"
   ]
  },
  {
   "cell_type": "code",
   "execution_count": null,
   "id": "bae8f1b7-faab-45dd-be67-a31c3c49fb18",
   "metadata": {},
   "outputs": [],
   "source": [
    "plt.subplot(1, 4, 1)\n",
    "plt.imshow(moon, cmap='gray')\n",
    "plt.axis('off')\n",
    "plt.subplot(1, 4, 2)\n",
    "plt.imshow(newmoon, cmap='gray')\n",
    "plt.axis('off')\n",
    "plt.subplot(1, 4, 3)\n",
    "plt.imshow(newmoon01, cmap='gray')\n",
    "plt.axis('off')\n",
    "plt.subplot(1, 4, 4)\n",
    "plt.imshow(eq_moon, cmap='gray')\n",
    "plt.axis('off')"
   ]
  },
  {
   "cell_type": "code",
   "execution_count": null,
   "id": "4ff9eee5-403d-4d15-b30c-45dd5f9fa12c",
   "metadata": {},
   "outputs": [],
   "source": [
    "px.histogram((eq_moon*255).ravel(), range_x=[0, 255], nbins=256)"
   ]
  },
  {
   "cell_type": "code",
   "execution_count": null,
   "id": "0c98d7a4-0968-487c-b045-d3d028c685e3",
   "metadata": {},
   "outputs": [],
   "source": [
    "px.histogram(moon.ravel(), range_x=[0, 255], nbins=10)"
   ]
  },
  {
   "cell_type": "code",
   "execution_count": null,
   "id": "be3a40d5-a639-45ae-ab24-69729e02c883",
   "metadata": {},
   "outputs": [],
   "source": [
    "px.histogram((eq_moon*255).ravel(), range_x=[0, 255], nbins=10)"
   ]
  },
  {
   "cell_type": "code",
   "execution_count": null,
   "id": "a4a887f2-1e49-4a81-8082-baac709908b1",
   "metadata": {},
   "outputs": [],
   "source": [
    "moon"
   ]
  },
  {
   "cell_type": "code",
   "execution_count": null,
   "id": "41429718-7459-4ad1-816c-8a3ad865d0ca",
   "metadata": {},
   "outputs": [],
   "source": [
    "newmoon01"
   ]
  },
  {
   "cell_type": "code",
   "execution_count": null,
   "id": "90ed300f-56af-43af-b64c-a9a3d57461cf",
   "metadata": {},
   "outputs": [],
   "source": [
    "eq_moon"
   ]
  },
  {
   "cell_type": "code",
   "execution_count": null,
   "id": "91007573-f57f-4a47-8393-cd57da657f0d",
   "metadata": {},
   "outputs": [],
   "source": [
    "eq_moon.min()"
   ]
  },
  {
   "cell_type": "code",
   "execution_count": null,
   "id": "e2a2ce45-7976-49c0-964b-2f50e06aca8a",
   "metadata": {},
   "outputs": [],
   "source": [
    "eq_moon.max()"
   ]
  },
  {
   "cell_type": "markdown",
   "id": "1666be8f-0059-4dbe-8eed-8edee7958b3b",
   "metadata": {},
   "source": [
    "## Image Convolution"
   ]
  },
  {
   "cell_type": "code",
   "execution_count": null,
   "id": "99053bbe-9064-44f4-87bb-cb0ca095cc88",
   "metadata": {},
   "outputs": [],
   "source": [
    "img"
   ]
  },
  {
   "cell_type": "code",
   "execution_count": null,
   "id": "5610e80a-0c19-4e77-bc49-a0ec56c06d20",
   "metadata": {},
   "outputs": [],
   "source": [
    "gray = img.convert('L')"
   ]
  },
  {
   "cell_type": "code",
   "execution_count": null,
   "id": "06b21609-0816-45fc-bcbd-c753daaf359e",
   "metadata": {},
   "outputs": [],
   "source": [
    "gray"
   ]
  },
  {
   "cell_type": "code",
   "execution_count": null,
   "id": "cd094b63-dd68-4870-b3e7-cf0c21aaa5d6",
   "metadata": {},
   "outputs": [],
   "source": [
    "np.ones((3, 3))*1/9"
   ]
  },
  {
   "cell_type": "code",
   "execution_count": null,
   "id": "885ce63a-8ac6-44b8-861a-f6bb9e83af9c",
   "metadata": {},
   "outputs": [],
   "source": [
    "np.zeros((3, 3))"
   ]
  },
  {
   "cell_type": "code",
   "execution_count": null,
   "id": "b82bde77-4a8a-4080-b2eb-50f13d514f2a",
   "metadata": {},
   "outputs": [],
   "source": [
    "filter01 = np.ones((3, 3))*1/9"
   ]
  },
  {
   "cell_type": "code",
   "execution_count": null,
   "id": "d80ac0c2-886b-47ba-8cc4-e0e74635c838",
   "metadata": {},
   "outputs": [],
   "source": [
    "glena = np.array(gray)"
   ]
  },
  {
   "cell_type": "code",
   "execution_count": null,
   "id": "7660a334-038b-473f-a81a-7fda63d6333b",
   "metadata": {},
   "outputs": [],
   "source": [
    "glena.shape"
   ]
  },
  {
   "cell_type": "code",
   "execution_count": null,
   "id": "6cfcc184-9ef1-4b69-915a-b19a54d3c083",
   "metadata": {},
   "outputs": [],
   "source": [
    "newlena = np.zeros_like(glena)"
   ]
  },
  {
   "cell_type": "code",
   "execution_count": null,
   "id": "07ac96eb-fa5e-4998-a96c-7a365e436fef",
   "metadata": {},
   "outputs": [],
   "source": [
    "newlena.shape"
   ]
  },
  {
   "cell_type": "code",
   "execution_count": null,
   "id": "4ed14e6e-8cb5-463e-af9d-47ecd8fefbe7",
   "metadata": {},
   "outputs": [],
   "source": [
    "newlena"
   ]
  },
  {
   "cell_type": "code",
   "execution_count": null,
   "id": "cbcb1e08-96dd-4f54-8bed-0047f585e817",
   "metadata": {},
   "outputs": [],
   "source": [
    "x = np.ones((3, 3))\n",
    "y = np.ones((3, 3))\n",
    "x[0, 1] = 2\n",
    "x[1, 2] = 3\n",
    "y[0, 0] = -1\n",
    "y[2, 2] = -2"
   ]
  },
  {
   "cell_type": "code",
   "execution_count": null,
   "id": "5c205199-95c5-4ffd-8c12-6477a2a52923",
   "metadata": {},
   "outputs": [],
   "source": [
    "x"
   ]
  },
  {
   "cell_type": "code",
   "execution_count": null,
   "id": "62488787-4594-481e-a86d-416dbe559be9",
   "metadata": {},
   "outputs": [],
   "source": [
    "y"
   ]
  },
  {
   "cell_type": "code",
   "execution_count": null,
   "id": "c3c310c8-60e8-459f-b33d-95fa67a4d411",
   "metadata": {},
   "outputs": [],
   "source": [
    "x * y"
   ]
  },
  {
   "cell_type": "code",
   "execution_count": null,
   "id": "fa98d503-a111-467d-a1ff-6181efed42be",
   "metadata": {},
   "outputs": [],
   "source": [
    "np.sum(x*y)"
   ]
  },
  {
   "cell_type": "code",
   "execution_count": null,
   "id": "c87061b2-53e7-4560-ba8e-b2bee4417781",
   "metadata": {},
   "outputs": [],
   "source": [
    "for i in range(1, 439):\n",
    "    for j in range(1, 439):\n",
    "        newlena[i, j] = np.sum(glena[i-1:i+2, j-1:j+2]*filter01)"
   ]
  },
  {
   "cell_type": "code",
   "execution_count": null,
   "id": "7bd4aaa6-6613-40e3-a69f-956fa69e252b",
   "metadata": {
    "scrolled": true
   },
   "outputs": [],
   "source": [
    "px.imshow(newlena, color_continuous_scale=\"gray\")"
   ]
  },
  {
   "cell_type": "code",
   "execution_count": null,
   "id": "f9877ff4-f293-44ce-9f49-c2bc1ac3de56",
   "metadata": {},
   "outputs": [],
   "source": [
    "filter02 = np.ones((7, 7))/49"
   ]
  },
  {
   "cell_type": "code",
   "execution_count": null,
   "id": "9ff0d7c4-858c-44a2-af13-1f75266f2c42",
   "metadata": {},
   "outputs": [],
   "source": [
    "filter02"
   ]
  },
  {
   "cell_type": "code",
   "execution_count": null,
   "id": "ffc7f8aa-5181-4352-b42c-6086f23b1634",
   "metadata": {},
   "outputs": [],
   "source": [
    "newlena01 = np.zeros_like(glena)"
   ]
  },
  {
   "cell_type": "code",
   "execution_count": null,
   "id": "cb38d2f3-11f1-4b52-9e80-5fe72e67d472",
   "metadata": {},
   "outputs": [],
   "source": [
    "for i in range(3, 437):\n",
    "    for j in range(3, 437):\n",
    "        newlena01[i, j] = np.sum(glena[i-3:i+4, j-3:j+4]*filter02)"
   ]
  },
  {
   "cell_type": "code",
   "execution_count": null,
   "id": "12e5c33b-82dd-49e1-be8e-38c5d580c73c",
   "metadata": {},
   "outputs": [],
   "source": [
    "px.imshow(newlena01, color_continuous_scale=\"gray\")"
   ]
  },
  {
   "cell_type": "code",
   "execution_count": 120,
   "id": "a4ed49d2-8c8b-4fd3-b0f9-edaa5d0d9e9e",
   "metadata": {},
   "outputs": [
    {
     "data": {
      "text/plain": [
       "<matplotlib.image.AxesImage at 0x22a87fc6ea0>"
      ]
     },
     "execution_count": 120,
     "metadata": {},
     "output_type": "execute_result"
    },
    {
     "data": {
      "image/png": "[encoded data removed]",
      "text/plain": [
       "<Figure size 640x480 with 3 Axes>"
      ]
     },
     "metadata": {},
     "output_type": "display_data"
    }
   ],
   "source": [
    "plt.subplot(1, 3, 1)\n",
    "plt.imshow(glena, cmap=\"gray\")\n",
    "plt.subplot(1, 3, 2)\n",
    "plt.imshow(newlena, cmap=\"gray\")\n",
    "plt.subplot(1, 3, 3)\n",
    "plt.imshow(newlena01, cmap=\"gray\")"
   ]
  },
  {
   "cell_type": "code",
   "execution_count": null,
   "id": "0bde13f2-fd37-4222-a904-1203feb39b4f",
   "metadata": {},
   "outputs": [],
   "source": []
  }
 ],
 "metadata": {
  "kernelspec": {
   "display_name": "Python 3 (ipykernel)",
   "language": "python",
   "name": "python3"
  },
  "language_info": {
   "codemirror_mode": {
    "name": "ipython",
    "version": 3
   },
   "file_extension": ".py",
   "mimetype": "text/x-python",
   "name": "python",
   "nbconvert_exporter": "python",
   "pygments_lexer": "ipython3",
   "version": "3.12.3"
  }
 },
 "nbformat": 4,
 "nbformat_minor": 5
}
